{
 "cells": [
  {
   "cell_type": "markdown",
   "metadata": {},
   "source": [
    "# Introduction:\n",
    "\n",
    "Cell tower points are very important to neighborhoods because you are going to want hte stronged possible connection to the internet that you can get. Greenways are vital to neighborhoods and cities because they reduce air and water pollution. Furthermore, the fire incidents in neighborhoods are huge in determining whether a neighborhood is good or not, since you won’t want to movie into a flammable neighborhood. This is a good metric for measuring how safe a community is. \n",
    "\n"
   ]
  },
  {
   "cell_type": "markdown",
   "metadata": {},
   "source": [
    "## Our Metrics\n",
    "Number of greenways per neighborhood, number of fire incidents per neighborhood, and number of cell tower locations per neighborhood"
   ]
  },
  {
   "cell_type": "markdown",
   "metadata": {},
   "source": [
    "## Our Datasets"
   ]
  },
  {
   "cell_type": "markdown",
   "metadata": {},
   "source": [
    "Neighborhood Boundaries in Pittsburgh: https://data.wprdc.org/dataset/neighborhoods2\n",
    "This dataset shows the boundaries of Pittsburgh neighborhoods."
   ]
  },
  {
   "cell_type": "markdown",
   "metadata": {},
   "source": [
    "Cell tower points: https://data.wprdc.org/dataset/allegheny-county-cell-tower-points\n",
    "\n",
    "This dataset portrays cell tower points in Allegheny county."
   ]
  },
  {
   "cell_type": "markdown",
   "metadata": {},
   "source": [
    "Greenways: https://data.wprdc.org/dataset/allegheny-county-greenways\n",
    "\n",
    "This dataset shows the number of greenways in Allegheny county\n"
   ]
  },
  {
   "cell_type": "markdown",
   "metadata": {},
   "source": [
    "Fire incidents: https://data.wprdc.org/dataset/fire-incidents-in-city-of-pittsburgh\n",
    "\n",
    "This dataset portrays where recent fire incidents occured in Allegheny county."
   ]
  },
  {
   "cell_type": "markdown",
   "metadata": {},
   "source": [
    "## Metric #1: Cell Tower Locations in Allegheny County"
   ]
  },
  {
   "cell_type": "markdown",
   "metadata": {},
   "source": [
    "Starting off by reading the data from Pittsburgh neighborhoods."
   ]
  },
  {
   "cell_type": "code",
   "execution_count": 1,
   "metadata": {},
   "outputs": [
    {
     "data": {
      "text/html": [
       "<div>\n",
       "<style scoped>\n",
       "    .dataframe tbody tr th:only-of-type {\n",
       "        vertical-align: middle;\n",
       "    }\n",
       "\n",
       "    .dataframe tbody tr th {\n",
       "        vertical-align: top;\n",
       "    }\n",
       "\n",
       "    .dataframe thead th {\n",
       "        text-align: right;\n",
       "    }\n",
       "</style>\n",
       "<table border=\"1\" class=\"dataframe\">\n",
       "  <thead>\n",
       "    <tr style=\"text-align: right;\">\n",
       "      <th></th>\n",
       "      <th>OBJECTID</th>\n",
       "      <th>fid_blockg</th>\n",
       "      <th>statefp10</th>\n",
       "      <th>countyfp10</th>\n",
       "      <th>tractce10</th>\n",
       "      <th>blkgrpce10</th>\n",
       "      <th>geoid10</th>\n",
       "      <th>namelsad10</th>\n",
       "      <th>mtfcc10</th>\n",
       "      <th>funcstat10</th>\n",
       "      <th>...</th>\n",
       "      <th>created_us</th>\n",
       "      <th>created_da</th>\n",
       "      <th>last_edite</th>\n",
       "      <th>last_edi_1</th>\n",
       "      <th>temp</th>\n",
       "      <th>pghdb_sde_</th>\n",
       "      <th>GlobalID</th>\n",
       "      <th>Shape__Are</th>\n",
       "      <th>Shape__Len</th>\n",
       "      <th>geometry</th>\n",
       "    </tr>\n",
       "  </thead>\n",
       "  <tbody>\n",
       "    <tr>\n",
       "      <th>0</th>\n",
       "      <td>1</td>\n",
       "      <td>233</td>\n",
       "      <td>42</td>\n",
       "      <td>003</td>\n",
       "      <td>140500</td>\n",
       "      <td>3</td>\n",
       "      <td>420031405003</td>\n",
       "      <td>Block Group 3</td>\n",
       "      <td>G5030</td>\n",
       "      <td>S</td>\n",
       "      <td>...</td>\n",
       "      <td>SDE</td>\n",
       "      <td>2020-08-14</td>\n",
       "      <td>SDE</td>\n",
       "      <td>2020-08-14</td>\n",
       "      <td>None</td>\n",
       "      <td>7968760.0</td>\n",
       "      <td>a642a6b6-a2a9-48d5-acf2-3e2ce87d4bc0</td>\n",
       "      <td>8.153647e+06</td>\n",
       "      <td>14047.065024</td>\n",
       "      <td>POLYGON ((-79.90560 40.45522, -79.90553 40.455...</td>\n",
       "    </tr>\n",
       "    <tr>\n",
       "      <th>1</th>\n",
       "      <td>2</td>\n",
       "      <td>203</td>\n",
       "      <td>42</td>\n",
       "      <td>003</td>\n",
       "      <td>140100</td>\n",
       "      <td>3</td>\n",
       "      <td>420031401003</td>\n",
       "      <td>Block Group 3</td>\n",
       "      <td>G5030</td>\n",
       "      <td>S</td>\n",
       "      <td>...</td>\n",
       "      <td>SDE</td>\n",
       "      <td>2020-08-14</td>\n",
       "      <td>SDE</td>\n",
       "      <td>2020-08-14</td>\n",
       "      <td>None</td>\n",
       "      <td>34078712.0</td>\n",
       "      <td>20d4605b-258e-441a-a57e-a28fdabb6d30</td>\n",
       "      <td>3.407739e+07</td>\n",
       "      <td>30347.886823</td>\n",
       "      <td>POLYGON ((-79.91309 40.43804, -79.91321 40.438...</td>\n",
       "    </tr>\n",
       "    <tr>\n",
       "      <th>2</th>\n",
       "      <td>3</td>\n",
       "      <td>86</td>\n",
       "      <td>42</td>\n",
       "      <td>003</td>\n",
       "      <td>101700</td>\n",
       "      <td>2</td>\n",
       "      <td>420031017002</td>\n",
       "      <td>Block Group 2</td>\n",
       "      <td>G5030</td>\n",
       "      <td>S</td>\n",
       "      <td>...</td>\n",
       "      <td>SDE</td>\n",
       "      <td>2020-08-14</td>\n",
       "      <td>SDE</td>\n",
       "      <td>2020-08-14</td>\n",
       "      <td>None</td>\n",
       "      <td>12751163.0</td>\n",
       "      <td>bf4065e7-c29c-48bd-b529-e7fd99077238</td>\n",
       "      <td>1.275116e+07</td>\n",
       "      <td>14577.441571</td>\n",
       "      <td>POLYGON ((-79.93457 40.47217, -79.93455 40.472...</td>\n",
       "    </tr>\n",
       "    <tr>\n",
       "      <th>3</th>\n",
       "      <td>4</td>\n",
       "      <td>214</td>\n",
       "      <td>42</td>\n",
       "      <td>003</td>\n",
       "      <td>050900</td>\n",
       "      <td>1</td>\n",
       "      <td>420030509001</td>\n",
       "      <td>Block Group 1</td>\n",
       "      <td>G5030</td>\n",
       "      <td>S</td>\n",
       "      <td>...</td>\n",
       "      <td>SDE</td>\n",
       "      <td>2020-08-14</td>\n",
       "      <td>SDE</td>\n",
       "      <td>2020-08-14</td>\n",
       "      <td>None</td>\n",
       "      <td>4997335.5</td>\n",
       "      <td>fed3fb32-0cd3-4556-aa41-17ee03b4fe41</td>\n",
       "      <td>4.997845e+06</td>\n",
       "      <td>14216.959213</td>\n",
       "      <td>POLYGON ((-79.96601 40.45520, -79.96596 40.454...</td>\n",
       "    </tr>\n",
       "  </tbody>\n",
       "</table>\n",
       "<p>4 rows × 40 columns</p>\n",
       "</div>"
      ],
      "text/plain": [
       "   OBJECTID  fid_blockg statefp10 countyfp10 tractce10 blkgrpce10  \\\n",
       "0         1         233        42        003    140500          3   \n",
       "1         2         203        42        003    140100          3   \n",
       "2         3          86        42        003    101700          2   \n",
       "3         4         214        42        003    050900          1   \n",
       "\n",
       "        geoid10     namelsad10 mtfcc10 funcstat10  ...  created_us  \\\n",
       "0  420031405003  Block Group 3   G5030          S  ...         SDE   \n",
       "1  420031401003  Block Group 3   G5030          S  ...         SDE   \n",
       "2  420031017002  Block Group 2   G5030          S  ...         SDE   \n",
       "3  420030509001  Block Group 1   G5030          S  ...         SDE   \n",
       "\n",
       "   created_da last_edite  last_edi_1  temp  pghdb_sde_  \\\n",
       "0  2020-08-14        SDE  2020-08-14  None   7968760.0   \n",
       "1  2020-08-14        SDE  2020-08-14  None  34078712.0   \n",
       "2  2020-08-14        SDE  2020-08-14  None  12751163.0   \n",
       "3  2020-08-14        SDE  2020-08-14  None   4997335.5   \n",
       "\n",
       "                               GlobalID    Shape__Are    Shape__Len  \\\n",
       "0  a642a6b6-a2a9-48d5-acf2-3e2ce87d4bc0  8.153647e+06  14047.065024   \n",
       "1  20d4605b-258e-441a-a57e-a28fdabb6d30  3.407739e+07  30347.886823   \n",
       "2  bf4065e7-c29c-48bd-b529-e7fd99077238  1.275116e+07  14577.441571   \n",
       "3  fed3fb32-0cd3-4556-aa41-17ee03b4fe41  4.997845e+06  14216.959213   \n",
       "\n",
       "                                            geometry  \n",
       "0  POLYGON ((-79.90560 40.45522, -79.90553 40.455...  \n",
       "1  POLYGON ((-79.91309 40.43804, -79.91321 40.438...  \n",
       "2  POLYGON ((-79.93457 40.47217, -79.93455 40.472...  \n",
       "3  POLYGON ((-79.96601 40.45520, -79.96596 40.454...  \n",
       "\n",
       "[4 rows x 40 columns]"
      ]
     },
     "execution_count": 1,
     "metadata": {},
     "output_type": "execute_result"
    }
   ],
   "source": [
    "import geopandas as gpd\n",
    "import pandas as pd\n",
    "\n",
    "neighborhood_boundaries = gpd.read_file('./Neighborhoods_.shp')\n",
    "\n",
    "neighborhood_boundaries.head(4)"
   ]
  },
  {
   "cell_type": "markdown",
   "metadata": {},
   "source": [
    "Here is the data for Pittsburgh neighborhoods, with each neighborhood name being found under the \"hood\" column and their borders under the \"geometry\" column."
   ]
  },
  {
   "cell_type": "markdown",
   "metadata": {},
   "source": [
    "Now we have to load in the data for the cell tower points."
   ]
  },
  {
   "cell_type": "code",
   "execution_count": 11,
   "metadata": {},
   "outputs": [
    {
     "data": {
      "text/html": [
       "<div>\n",
       "<style scoped>\n",
       "    .dataframe tbody tr th:only-of-type {\n",
       "        vertical-align: middle;\n",
       "    }\n",
       "\n",
       "    .dataframe tbody tr th {\n",
       "        vertical-align: top;\n",
       "    }\n",
       "\n",
       "    .dataframe thead th {\n",
       "        text-align: right;\n",
       "    }\n",
       "</style>\n",
       "<table border=\"1\" class=\"dataframe\">\n",
       "  <thead>\n",
       "    <tr style=\"text-align: right;\">\n",
       "      <th></th>\n",
       "      <th>FID</th>\n",
       "      <th>PIN</th>\n",
       "      <th>MAPBLOCKLO</th>\n",
       "      <th>MUNICODE</th>\n",
       "      <th>TAXYR</th>\n",
       "      <th>NAME</th>\n",
       "      <th>CARD</th>\n",
       "      <th>LLINE</th>\n",
       "      <th>CODE</th>\n",
       "      <th>DESCRIB</th>\n",
       "      <th>...</th>\n",
       "      <th>YRBLT</th>\n",
       "      <th>EFFYR</th>\n",
       "      <th>ADJRCNLD</th>\n",
       "      <th>ORIG_FID</th>\n",
       "      <th>OWNER_NAME</th>\n",
       "      <th>CreationDa</th>\n",
       "      <th>Creator</th>\n",
       "      <th>EditDate</th>\n",
       "      <th>Editor</th>\n",
       "      <th>geometry</th>\n",
       "    </tr>\n",
       "  </thead>\n",
       "  <tbody>\n",
       "    <tr>\n",
       "      <th>0</th>\n",
       "      <td>1</td>\n",
       "      <td>0152A00174000000</td>\n",
       "      <td>152-A-174</td>\n",
       "      <td>939</td>\n",
       "      <td>2016.0</td>\n",
       "      <td>Robinson</td>\n",
       "      <td>1.0</td>\n",
       "      <td>2.0</td>\n",
       "      <td>M20</td>\n",
       "      <td>CELL - MONOPOLE 100-149 - AVG</td>\n",
       "      <td>...</td>\n",
       "      <td>1990.0</td>\n",
       "      <td>None</td>\n",
       "      <td>68200.0</td>\n",
       "      <td>1</td>\n",
       "      <td>CROWN ATLANTIC COMPANY LLC</td>\n",
       "      <td>2015-11-24</td>\n",
       "      <td>GISHelp</td>\n",
       "      <td>2015-11-24</td>\n",
       "      <td>GISHelp</td>\n",
       "      <td>POINT (-80.11293 40.45285)</td>\n",
       "    </tr>\n",
       "    <tr>\n",
       "      <th>1</th>\n",
       "      <td>3</td>\n",
       "      <td>0379M00020000000</td>\n",
       "      <td>379-M-20</td>\n",
       "      <td>408</td>\n",
       "      <td>2016.0</td>\n",
       "      <td>8th Ward  - McKEESPORT</td>\n",
       "      <td>1.0</td>\n",
       "      <td>3.0</td>\n",
       "      <td>M21</td>\n",
       "      <td>CELL - MONOPOLE 100-149 - GOOD</td>\n",
       "      <td>...</td>\n",
       "      <td>2000.0</td>\n",
       "      <td>None</td>\n",
       "      <td>99000.0</td>\n",
       "      <td>3</td>\n",
       "      <td>GLOBAL SIGNAL ACQUISITIONS IV LLC</td>\n",
       "      <td>2015-11-24</td>\n",
       "      <td>GISHelp</td>\n",
       "      <td>2015-11-24</td>\n",
       "      <td>GISHelp</td>\n",
       "      <td>POINT (-79.83347 40.35873)</td>\n",
       "    </tr>\n",
       "    <tr>\n",
       "      <th>2</th>\n",
       "      <td>5</td>\n",
       "      <td>1063B00145000100</td>\n",
       "      <td>1063-B-145-1</td>\n",
       "      <td>883</td>\n",
       "      <td>2016.0</td>\n",
       "      <td>Bell Acres</td>\n",
       "      <td>1.0</td>\n",
       "      <td>6.0</td>\n",
       "      <td>M26</td>\n",
       "      <td>CELL - MONOPOLE 150-199 - GOOD</td>\n",
       "      <td>...</td>\n",
       "      <td>1997.0</td>\n",
       "      <td>None</td>\n",
       "      <td>146900.0</td>\n",
       "      <td>5</td>\n",
       "      <td>CROWN ATLANTIC COMPANY LLC</td>\n",
       "      <td>2015-11-24</td>\n",
       "      <td>GISHelp</td>\n",
       "      <td>2015-11-24</td>\n",
       "      <td>GISHelp</td>\n",
       "      <td>POINT (-80.17625 40.59666)</td>\n",
       "    </tr>\n",
       "    <tr>\n",
       "      <th>3</th>\n",
       "      <td>6</td>\n",
       "      <td>0228E00168000000</td>\n",
       "      <td>228-E-168</td>\n",
       "      <td>931</td>\n",
       "      <td>2016.0</td>\n",
       "      <td>O''Hara</td>\n",
       "      <td>1.0</td>\n",
       "      <td>7.0</td>\n",
       "      <td>S21</td>\n",
       "      <td>CELL - SELF SPRT 100-149 - GD</td>\n",
       "      <td>...</td>\n",
       "      <td>2005.0</td>\n",
       "      <td>None</td>\n",
       "      <td>94600.0</td>\n",
       "      <td>6</td>\n",
       "      <td>LASER WASH GROUP LLC</td>\n",
       "      <td>2015-11-24</td>\n",
       "      <td>GISHelp</td>\n",
       "      <td>2015-11-24</td>\n",
       "      <td>GISHelp</td>\n",
       "      <td>POINT (-79.87992 40.48774)</td>\n",
       "    </tr>\n",
       "  </tbody>\n",
       "</table>\n",
       "<p>4 rows × 22 columns</p>\n",
       "</div>"
      ],
      "text/plain": [
       "   FID               PIN    MAPBLOCKLO  MUNICODE   TAXYR  \\\n",
       "0    1  0152A00174000000     152-A-174       939  2016.0   \n",
       "1    3  0379M00020000000      379-M-20       408  2016.0   \n",
       "2    5  1063B00145000100  1063-B-145-1       883  2016.0   \n",
       "3    6  0228E00168000000     228-E-168       931  2016.0   \n",
       "\n",
       "                     NAME  CARD  LLINE CODE                         DESCRIB  \\\n",
       "0                Robinson   1.0    2.0  M20   CELL - MONOPOLE 100-149 - AVG   \n",
       "1  8th Ward  - McKEESPORT   1.0    3.0  M21  CELL - MONOPOLE 100-149 - GOOD   \n",
       "2              Bell Acres   1.0    6.0  M26  CELL - MONOPOLE 150-199 - GOOD   \n",
       "3                 O''Hara   1.0    7.0  S21   CELL - SELF SPRT 100-149 - GD   \n",
       "\n",
       "   ...   YRBLT  EFFYR  ADJRCNLD ORIG_FID                         OWNER_NAME  \\\n",
       "0  ...  1990.0   None   68200.0        1         CROWN ATLANTIC COMPANY LLC   \n",
       "1  ...  2000.0   None   99000.0        3  GLOBAL SIGNAL ACQUISITIONS IV LLC   \n",
       "2  ...  1997.0   None  146900.0        5         CROWN ATLANTIC COMPANY LLC   \n",
       "3  ...  2005.0   None   94600.0        6               LASER WASH GROUP LLC   \n",
       "\n",
       "   CreationDa  Creator    EditDate   Editor                    geometry  \n",
       "0  2015-11-24  GISHelp  2015-11-24  GISHelp  POINT (-80.11293 40.45285)  \n",
       "1  2015-11-24  GISHelp  2015-11-24  GISHelp  POINT (-79.83347 40.35873)  \n",
       "2  2015-11-24  GISHelp  2015-11-24  GISHelp  POINT (-80.17625 40.59666)  \n",
       "3  2015-11-24  GISHelp  2015-11-24  GISHelp  POINT (-79.87992 40.48774)  \n",
       "\n",
       "[4 rows x 22 columns]"
      ]
     },
     "execution_count": 11,
     "metadata": {},
     "output_type": "execute_result"
    }
   ],
   "source": [
    "towers = gpd.read_file('./CellTowerPoints.shp') \n",
    "\n",
    "#Renaming columns to \"longitude\" and \"latitude\"\n",
    "towers = towers.rename(columns={\"Longitude_X\": \"Longitude\", \"Latitude_Y\": \"Latitude\"})\n",
    "\n",
    "towers.head(4)"
   ]
  },
  {
   "cell_type": "markdown",
   "metadata": {},
   "source": [
    "Here is our the cell tower data, with the points under the \"geometry\" column using latitude and longitude"
   ]
  },
  {
   "cell_type": "markdown",
   "metadata": {},
   "source": [
    "Cleaning up the data, so we only see the neighborhood, its coordinates, and its number of cell towers."
   ]
  },
  {
   "cell_type": "code",
   "execution_count": 5,
   "metadata": {},
   "outputs": [
    {
     "data": {
      "text/html": [
       "<div>\n",
       "<style scoped>\n",
       "    .dataframe tbody tr th:only-of-type {\n",
       "        vertical-align: middle;\n",
       "    }\n",
       "\n",
       "    .dataframe tbody tr th {\n",
       "        vertical-align: top;\n",
       "    }\n",
       "\n",
       "    .dataframe thead th {\n",
       "        text-align: right;\n",
       "    }\n",
       "</style>\n",
       "<table border=\"1\" class=\"dataframe\">\n",
       "  <thead>\n",
       "    <tr style=\"text-align: right;\">\n",
       "      <th></th>\n",
       "      <th>Neighborhood</th>\n",
       "      <th>Geometry</th>\n",
       "      <th>Towers</th>\n",
       "    </tr>\n",
       "  </thead>\n",
       "  <tbody>\n",
       "    <tr>\n",
       "      <th>0</th>\n",
       "      <td>Point Breeze North</td>\n",
       "      <td>POLYGON ((-79.90560 40.45522, -79.90553 40.455...</td>\n",
       "      <td>0</td>\n",
       "    </tr>\n",
       "    <tr>\n",
       "      <th>1</th>\n",
       "      <td>Squirrel Hill North</td>\n",
       "      <td>POLYGON ((-79.91309 40.43804, -79.91321 40.438...</td>\n",
       "      <td>0</td>\n",
       "    </tr>\n",
       "    <tr>\n",
       "      <th>2</th>\n",
       "      <td>Garfield</td>\n",
       "      <td>POLYGON ((-79.93457 40.47217, -79.93455 40.472...</td>\n",
       "      <td>0</td>\n",
       "    </tr>\n",
       "  </tbody>\n",
       "</table>\n",
       "</div>"
      ],
      "text/plain": [
       "          Neighborhood                                           Geometry  \\\n",
       "0   Point Breeze North  POLYGON ((-79.90560 40.45522, -79.90553 40.455...   \n",
       "1  Squirrel Hill North  POLYGON ((-79.91309 40.43804, -79.91321 40.438...   \n",
       "2             Garfield  POLYGON ((-79.93457 40.47217, -79.93455 40.472...   \n",
       "\n",
       "   Towers  \n",
       "0       0  \n",
       "1       0  \n",
       "2       0  "
      ]
     },
     "execution_count": 5,
     "metadata": {},
     "output_type": "execute_result"
    }
   ],
   "source": [
    "import geopandas as gpd\n",
    "import pandas as pd\n",
    "\n",
    "\n",
    "# Create a new DataFrame for neighborhoods\n",
    "neighborhoods = pd.DataFrame(columns=[\"Neighborhood\", \"Geometry\", \"Towers\"])\n",
    "neighborhoods[\"Neighborhood\"] = neighborhood_boundaries[\"hood\"]\n",
    "neighborhoods[\"Geometry\"] = neighborhood_boundaries[\"geometry\"]\n",
    "neighborhoods[\"Towers\"] = 0\n",
    "\n",
    "neighborhoods.head(3)"
   ]
  },
  {
   "cell_type": "markdown",
   "metadata": {},
   "source": [
    "We are now going to iterate through the cell towers in order to find out which neighborhoods have the most cell towers."
   ]
  },
  {
   "cell_type": "code",
   "execution_count": 10,
   "metadata": {},
   "outputs": [
    {
     "data": {
      "text/html": [
       "<div>\n",
       "<style scoped>\n",
       "    .dataframe tbody tr th:only-of-type {\n",
       "        vertical-align: middle;\n",
       "    }\n",
       "\n",
       "    .dataframe tbody tr th {\n",
       "        vertical-align: top;\n",
       "    }\n",
       "\n",
       "    .dataframe thead th {\n",
       "        text-align: right;\n",
       "    }\n",
       "</style>\n",
       "<table border=\"1\" class=\"dataframe\">\n",
       "  <thead>\n",
       "    <tr style=\"text-align: right;\">\n",
       "      <th></th>\n",
       "      <th>Neighborhood</th>\n",
       "      <th>Geometry</th>\n",
       "      <th>Towers</th>\n",
       "    </tr>\n",
       "  </thead>\n",
       "  <tbody>\n",
       "    <tr>\n",
       "      <th>0</th>\n",
       "      <td>Point Breeze North</td>\n",
       "      <td>POLYGON ((-79.90560 40.45522, -79.90553 40.455...</td>\n",
       "      <td>0</td>\n",
       "    </tr>\n",
       "    <tr>\n",
       "      <th>1</th>\n",
       "      <td>Squirrel Hill North</td>\n",
       "      <td>POLYGON ((-79.91309 40.43804, -79.91321 40.438...</td>\n",
       "      <td>0</td>\n",
       "    </tr>\n",
       "    <tr>\n",
       "      <th>2</th>\n",
       "      <td>Garfield</td>\n",
       "      <td>POLYGON ((-79.93457 40.47217, -79.93455 40.472...</td>\n",
       "      <td>0</td>\n",
       "    </tr>\n",
       "  </tbody>\n",
       "</table>\n",
       "</div>"
      ],
      "text/plain": [
       "          Neighborhood                                           Geometry  \\\n",
       "0   Point Breeze North  POLYGON ((-79.90560 40.45522, -79.90553 40.455...   \n",
       "1  Squirrel Hill North  POLYGON ((-79.91309 40.43804, -79.91321 40.438...   \n",
       "2             Garfield  POLYGON ((-79.93457 40.47217, -79.93455 40.472...   \n",
       "\n",
       "   Towers  \n",
       "0       0  \n",
       "1       0  \n",
       "2       0  "
      ]
     },
     "execution_count": 10,
     "metadata": {},
     "output_type": "execute_result"
    }
   ],
   "source": [
    "from shapely.geometry import Point\n",
    "\n",
    "for i, tower in towers.iterrows():\n",
    "    # Create a Point geometry for the tower\n",
    "    tower_pt = tower[\"geometry\"]\n",
    "    # Iterate through each neighborhood boundary\n",
    "    for j, neighborhood in neighborhoods.iterrows():\n",
    "        # Check if the neighborhood contains the tower\n",
    "        if neighborhood[\"Geometry\"].contains(tower_pt):\n",
    "            neighborhoods.at[j, 'Towers'] = neighborhood[\"Towers\"] + 1\n",
    "            # Break to save computation time\n",
    "            break\n",
    "\n",
    "neighborhoods.head(3)\n",
    "\n",
    "\n"
   ]
  },
  {
   "cell_type": "markdown",
   "metadata": {},
   "source": [
    "Now, we are able to sort the data. "
   ]
  },
  {
   "cell_type": "code",
   "execution_count": 16,
   "metadata": {},
   "outputs": [
    {
     "data": {
      "text/html": [
       "<div>\n",
       "<style scoped>\n",
       "    .dataframe tbody tr th:only-of-type {\n",
       "        vertical-align: middle;\n",
       "    }\n",
       "\n",
       "    .dataframe tbody tr th {\n",
       "        vertical-align: top;\n",
       "    }\n",
       "\n",
       "    .dataframe thead th {\n",
       "        text-align: right;\n",
       "    }\n",
       "</style>\n",
       "<table border=\"1\" class=\"dataframe\">\n",
       "  <thead>\n",
       "    <tr style=\"text-align: right;\">\n",
       "      <th></th>\n",
       "      <th>Neighborhood</th>\n",
       "      <th>Geometry</th>\n",
       "      <th>Towers</th>\n",
       "    </tr>\n",
       "  </thead>\n",
       "  <tbody>\n",
       "    <tr>\n",
       "      <th>60</th>\n",
       "      <td>Hazelwood</td>\n",
       "      <td>POLYGON ((-79.95505 40.42713, -79.95498 40.427...</td>\n",
       "      <td>4</td>\n",
       "    </tr>\n",
       "    <tr>\n",
       "      <th>76</th>\n",
       "      <td>Summer Hill</td>\n",
       "      <td>POLYGON ((-80.01078 40.49975, -80.01073 40.499...</td>\n",
       "      <td>3</td>\n",
       "    </tr>\n",
       "    <tr>\n",
       "      <th>25</th>\n",
       "      <td>Hays</td>\n",
       "      <td>POLYGON ((-79.95606 40.40916, -79.95625 40.408...</td>\n",
       "      <td>2</td>\n",
       "    </tr>\n",
       "    <tr>\n",
       "      <th>54</th>\n",
       "      <td>Mount Washington</td>\n",
       "      <td>POLYGON ((-79.99927 40.42915, -79.99927 40.429...</td>\n",
       "      <td>2</td>\n",
       "    </tr>\n",
       "    <tr>\n",
       "      <th>37</th>\n",
       "      <td>New Homestead</td>\n",
       "      <td>POLYGON ((-79.91621 40.39849, -79.91621 40.398...</td>\n",
       "      <td>2</td>\n",
       "    </tr>\n",
       "  </tbody>\n",
       "</table>\n",
       "</div>"
      ],
      "text/plain": [
       "        Neighborhood                                           Geometry  \\\n",
       "60         Hazelwood  POLYGON ((-79.95505 40.42713, -79.95498 40.427...   \n",
       "76       Summer Hill  POLYGON ((-80.01078 40.49975, -80.01073 40.499...   \n",
       "25              Hays  POLYGON ((-79.95606 40.40916, -79.95625 40.408...   \n",
       "54  Mount Washington  POLYGON ((-79.99927 40.42915, -79.99927 40.429...   \n",
       "37     New Homestead  POLYGON ((-79.91621 40.39849, -79.91621 40.398...   \n",
       "\n",
       "    Towers  \n",
       "60       4  \n",
       "76       3  \n",
       "25       2  \n",
       "54       2  \n",
       "37       2  "
      ]
     },
     "execution_count": 16,
     "metadata": {},
     "output_type": "execute_result"
    }
   ],
   "source": [
    "neighborhoods_sorted = neighborhoods.sort_values(\"Towers\", ascending=False)\n",
    "\n",
    "neighborhoods_sorted.head()"
   ]
  },
  {
   "cell_type": "markdown",
   "metadata": {},
   "source": [
    "So, as we can see, Hazelwood has the most cell towers, with a huge number of 4."
   ]
  },
  {
   "cell_type": "markdown",
   "metadata": {},
   "source": [
    "Now, we are going to plot the top 20 neighborhoods. There probably won't be much variety in this plot, though, so we are only plotting 20."
   ]
  },
  {
   "cell_type": "code",
   "execution_count": 22,
   "metadata": {},
   "outputs": [
    {
     "data": {
      "image/png": "[encoded data removed]",
      "text/plain": [
       "<Figure size 432x288 with 1 Axes>"
      ]
     },
     "metadata": {
      "needs_background": "light"
     },
     "output_type": "display_data"
    }
   ],
   "source": [
    "plt = neighborhoods_sorted.iloc[:20].plot(kind='bar', x=\"Neighborhood\", y=\"Towers\", title=\"Cell Towers by Neighborhood\")\n",
    "\n",
    "\n"
   ]
  },
  {
   "cell_type": "markdown",
   "metadata": {},
   "source": [
    "Now we can plot the bottom 20. We had to use boolean indexing to exclude neighborhoods with 0 towers, since none existed in Allegheny County."
   ]
  },
  {
   "cell_type": "code",
   "execution_count": 25,
   "metadata": {},
   "outputs": [
    {
     "data": {
      "text/plain": [
       "[]"
      ]
     },
     "execution_count": 25,
     "metadata": {},
     "output_type": "execute_result"
    },
    {
     "data": {
      "image/png": "[encoded data removed]",
      "text/plain": [
       "<Figure size 432x288 with 1 Axes>"
      ]
     },
     "metadata": {
      "needs_background": "light"
     },
     "output_type": "display_data"
    }
   ],
   "source": [
    "# Create a new DataFrame with neighborhoods that have at least 1 tower\n",
    "neighborhoods_nonzero = neighborhoods[neighborhoods[\"Towers\"] > 0]\n",
    "\n",
    "# Sort neighborhoods by the number of towers in ascending order\n",
    "neighborhoods_asc = neighborhoods_nonzero.sort_values(\"Towers\")\n",
    "\n",
    "# Plot the bottom 20 neighborhoods by number of towers\n",
    "plt2 = neighborhoods_asc.iloc[:20].plot(kind='bar', x=\"Neighborhood\", y=\"Towers\", title=\"Cell Towers by Neighborhood (Bottom 20)\")\n",
    "plt2.set_xlabel(\"Neighborhood\")\n",
    "plt2.set_ylabel(\"Number of Cell Towers\")\n",
    "plt2.tick_params(axis='x', labelrotation=90)\n",
    "\n",
    "plt2.plot()\n"
   ]
  },
  {
   "cell_type": "code",
   "execution_count": null,
   "metadata": {},
   "outputs": [],
   "source": [
    "Now, we are going to add the cell tower data to the \"neighborhood_boundaries\" GeoDataFrame"
   ]
  },
  {
   "cell_type": "code",
   "execution_count": 29,
   "metadata": {},
   "outputs": [
    {
     "data": {
      "image/png": "[encoded data removed]",
      "text/plain": [
       "<Figure size 432x288 with 2 Axes>"
      ]
     },
     "metadata": {
      "needs_background": "light"
     },
     "output_type": "display_data"
    }
   ],
   "source": [
    "neighborhood_boundaries[\"Towers\"] = neighborhoods[\"Towers\"]\n",
    "\n",
    "plt3 = neighborhood_boundaries.plot(column=\"Towers\", legend=True)   "
   ]
  },
  {
   "cell_type": "markdown",
   "metadata": {},
   "source": [
    "Finally, we can make a final ranking through the creation of a new dataframe."
   ]
  },
  {
   "cell_type": "code",
   "execution_count": 30,
   "metadata": {},
   "outputs": [
    {
     "data": {
      "text/html": [
       "<div>\n",
       "<style scoped>\n",
       "    .dataframe tbody tr th:only-of-type {\n",
       "        vertical-align: middle;\n",
       "    }\n",
       "\n",
       "    .dataframe tbody tr th {\n",
       "        vertical-align: top;\n",
       "    }\n",
       "\n",
       "    .dataframe thead th {\n",
       "        text-align: right;\n",
       "    }\n",
       "</style>\n",
       "<table border=\"1\" class=\"dataframe\">\n",
       "  <thead>\n",
       "    <tr style=\"text-align: right;\">\n",
       "      <th></th>\n",
       "      <th>Neighborhood</th>\n",
       "      <th>Towers_Rank</th>\n",
       "    </tr>\n",
       "  </thead>\n",
       "  <tbody>\n",
       "    <tr>\n",
       "      <th>60</th>\n",
       "      <td>Hazelwood</td>\n",
       "      <td>1</td>\n",
       "    </tr>\n",
       "    <tr>\n",
       "      <th>76</th>\n",
       "      <td>Summer Hill</td>\n",
       "      <td>2</td>\n",
       "    </tr>\n",
       "    <tr>\n",
       "      <th>25</th>\n",
       "      <td>Hays</td>\n",
       "      <td>3</td>\n",
       "    </tr>\n",
       "    <tr>\n",
       "      <th>54</th>\n",
       "      <td>Mount Washington</td>\n",
       "      <td>4</td>\n",
       "    </tr>\n",
       "    <tr>\n",
       "      <th>37</th>\n",
       "      <td>New Homestead</td>\n",
       "      <td>5</td>\n",
       "    </tr>\n",
       "    <tr>\n",
       "      <th>62</th>\n",
       "      <td>South Oakland</td>\n",
       "      <td>6</td>\n",
       "    </tr>\n",
       "    <tr>\n",
       "      <th>51</th>\n",
       "      <td>Carrick</td>\n",
       "      <td>7</td>\n",
       "    </tr>\n",
       "    <tr>\n",
       "      <th>20</th>\n",
       "      <td>Larimer</td>\n",
       "      <td>8</td>\n",
       "    </tr>\n",
       "    <tr>\n",
       "      <th>53</th>\n",
       "      <td>Banksville</td>\n",
       "      <td>9</td>\n",
       "    </tr>\n",
       "    <tr>\n",
       "      <th>40</th>\n",
       "      <td>Overbrook</td>\n",
       "      <td>10</td>\n",
       "    </tr>\n",
       "  </tbody>\n",
       "</table>\n",
       "</div>"
      ],
      "text/plain": [
       "        Neighborhood  Towers_Rank\n",
       "60         Hazelwood            1\n",
       "76       Summer Hill            2\n",
       "25              Hays            3\n",
       "54  Mount Washington            4\n",
       "37     New Homestead            5\n",
       "62     South Oakland            6\n",
       "51           Carrick            7\n",
       "20           Larimer            8\n",
       "53        Banksville            9\n",
       "40         Overbrook           10"
      ]
     },
     "execution_count": 30,
     "metadata": {},
     "output_type": "execute_result"
    }
   ],
   "source": [
    "# Create a new dataframe to store the final ranks\n",
    "neighborhoods_ranked = pd.DataFrame()\n",
    "\n",
    "# Add the neighborhood names to the new dataframe\n",
    "neighborhoods_ranked[\"Neighborhood\"] = neighborhoods[\"Neighborhood\"]\n",
    "\n",
    "# Create ranks for each of the metrics\n",
    "neighborhoods_ranked[\"Towers_Rank\"] = 0\n",
    "\n",
    "# Sort neighborhoods by number of cell towers and assign ranks\n",
    "neighborhoods_sorted = neighborhoods.sort_values(\"Towers\", ascending=False)\n",
    "rank = 1\n",
    "for index, neighborhood in neighborhoods_sorted.iterrows():\n",
    "    neighborhoods_ranked.loc[neighborhoods_ranked[\"Neighborhood\"] == neighborhood[\"Neighborhood\"], \"Towers_Rank\"] = rank\n",
    "    rank += 1\n",
    "\n",
    "# Display the top 10 neighborhoods by cell tower count with their corresponding ranks\n",
    "neighborhoods_ranked.sort_values(\"Towers_Rank\").head(10)\n"
   ]
  },
  {
   "cell_type": "markdown",
   "metadata": {},
   "source": [
    "## Metric 2:"
   ]
  }
 ],
 "metadata": {
  "kernelspec": {
   "display_name": "Python 3",
   "language": "python",
   "name": "python3"
  },
  "language_info": {
   "codemirror_mode": {
    "name": "ipython",
    "version": 3
   },
   "file_extension": ".py",
   "mimetype": "text/x-python",
   "name": "python",
   "nbconvert_exporter": "python",
   "pygments_lexer": "ipython3",
   "version": "3.8.3"
  }
 },
 "nbformat": 4,
 "nbformat_minor": 4
}
