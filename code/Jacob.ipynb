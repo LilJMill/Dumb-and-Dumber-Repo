{
 "cells": [
  {
   "cell_type": "markdown",
   "metadata": {},
   "source": [
    "# Fire Incidents by Neighborhood\n",
    "\n",
    "## By Jacob Miller\n",
    "\n",
    "### Data Set: Fire Incidents by Location\n",
    "##### https://data.wprdc.org/dataset/fire-incidents-in-city-of-pittsburgh\n"
   ]
  },
  {
   "cell_type": "code",
   "execution_count": 1,
   "metadata": {},
   "outputs": [
    {
     "data": {
      "text/html": [
       "<div>\n",
       "<style scoped>\n",
       "    .dataframe tbody tr th:only-of-type {\n",
       "        vertical-align: middle;\n",
       "    }\n",
       "\n",
       "    .dataframe tbody tr th {\n",
       "        vertical-align: top;\n",
       "    }\n",
       "\n",
       "    .dataframe thead th {\n",
       "        text-align: right;\n",
       "    }\n",
       "</style>\n",
       "<table border=\"1\" class=\"dataframe\">\n",
       "  <thead>\n",
       "    <tr style=\"text-align: right;\">\n",
       "      <th></th>\n",
       "      <th>OBJECTID</th>\n",
       "      <th>fid_blockg</th>\n",
       "      <th>statefp10</th>\n",
       "      <th>countyfp10</th>\n",
       "      <th>tractce10</th>\n",
       "      <th>blkgrpce10</th>\n",
       "      <th>geoid10</th>\n",
       "      <th>namelsad10</th>\n",
       "      <th>mtfcc10</th>\n",
       "      <th>funcstat10</th>\n",
       "      <th>...</th>\n",
       "      <th>created_us</th>\n",
       "      <th>created_da</th>\n",
       "      <th>last_edite</th>\n",
       "      <th>last_edi_1</th>\n",
       "      <th>temp</th>\n",
       "      <th>pghdb_sde_</th>\n",
       "      <th>GlobalID</th>\n",
       "      <th>Shape__Are</th>\n",
       "      <th>Shape__Len</th>\n",
       "      <th>geometry</th>\n",
       "    </tr>\n",
       "  </thead>\n",
       "  <tbody>\n",
       "    <tr>\n",
       "      <th>0</th>\n",
       "      <td>1</td>\n",
       "      <td>233</td>\n",
       "      <td>42</td>\n",
       "      <td>003</td>\n",
       "      <td>140500</td>\n",
       "      <td>3</td>\n",
       "      <td>420031405003</td>\n",
       "      <td>Block Group 3</td>\n",
       "      <td>G5030</td>\n",
       "      <td>S</td>\n",
       "      <td>...</td>\n",
       "      <td>SDE</td>\n",
       "      <td>2020-08-14</td>\n",
       "      <td>SDE</td>\n",
       "      <td>2020-08-14</td>\n",
       "      <td>None</td>\n",
       "      <td>7968760.0</td>\n",
       "      <td>a642a6b6-a2a9-48d5-acf2-3e2ce87d4bc0</td>\n",
       "      <td>8.153647e+06</td>\n",
       "      <td>14047.065024</td>\n",
       "      <td>POLYGON ((-79.90560 40.45522, -79.90553 40.455...</td>\n",
       "    </tr>\n",
       "    <tr>\n",
       "      <th>1</th>\n",
       "      <td>2</td>\n",
       "      <td>203</td>\n",
       "      <td>42</td>\n",
       "      <td>003</td>\n",
       "      <td>140100</td>\n",
       "      <td>3</td>\n",
       "      <td>420031401003</td>\n",
       "      <td>Block Group 3</td>\n",
       "      <td>G5030</td>\n",
       "      <td>S</td>\n",
       "      <td>...</td>\n",
       "      <td>SDE</td>\n",
       "      <td>2020-08-14</td>\n",
       "      <td>SDE</td>\n",
       "      <td>2020-08-14</td>\n",
       "      <td>None</td>\n",
       "      <td>34078712.0</td>\n",
       "      <td>20d4605b-258e-441a-a57e-a28fdabb6d30</td>\n",
       "      <td>3.407739e+07</td>\n",
       "      <td>30347.886823</td>\n",
       "      <td>POLYGON ((-79.91309 40.43804, -79.91321 40.438...</td>\n",
       "    </tr>\n",
       "  </tbody>\n",
       "</table>\n",
       "<p>2 rows × 40 columns</p>\n",
       "</div>"
      ],
      "text/plain": [
       "   OBJECTID  fid_blockg statefp10 countyfp10 tractce10 blkgrpce10  \\\n",
       "0         1         233        42        003    140500          3   \n",
       "1         2         203        42        003    140100          3   \n",
       "\n",
       "        geoid10     namelsad10 mtfcc10 funcstat10  ...  created_us  \\\n",
       "0  420031405003  Block Group 3   G5030          S  ...         SDE   \n",
       "1  420031401003  Block Group 3   G5030          S  ...         SDE   \n",
       "\n",
       "   created_da last_edite  last_edi_1  temp  pghdb_sde_  \\\n",
       "0  2020-08-14        SDE  2020-08-14  None   7968760.0   \n",
       "1  2020-08-14        SDE  2020-08-14  None  34078712.0   \n",
       "\n",
       "                               GlobalID    Shape__Are    Shape__Len  \\\n",
       "0  a642a6b6-a2a9-48d5-acf2-3e2ce87d4bc0  8.153647e+06  14047.065024   \n",
       "1  20d4605b-258e-441a-a57e-a28fdabb6d30  3.407739e+07  30347.886823   \n",
       "\n",
       "                                            geometry  \n",
       "0  POLYGON ((-79.90560 40.45522, -79.90553 40.455...  \n",
       "1  POLYGON ((-79.91309 40.43804, -79.91321 40.438...  \n",
       "\n",
       "[2 rows x 40 columns]"
      ]
     },
     "execution_count": 1,
     "metadata": {},
     "output_type": "execute_result"
    }
   ],
   "source": [
    "import geopandas as gpd\n",
    "import pandas as pd\n",
    "\n",
    "Neighborhoods = gpd.read_file('./Neighborhoods_.shp')\n",
    "\n",
    "Neighborhoods.head(2)"
   ]
  },
  {
   "cell_type": "markdown",
   "metadata": {},
   "source": [
    "Here is the data for Each of the Pittsburgh Neighborhoods with each neighborhood name being found under the \"hood\" column"
   ]
  },
  {
   "cell_type": "code",
   "execution_count": 2,
   "metadata": {},
   "outputs": [
    {
     "data": {
      "text/html": [
       "<div>\n",
       "<style scoped>\n",
       "    .dataframe tbody tr th:only-of-type {\n",
       "        vertical-align: middle;\n",
       "    }\n",
       "\n",
       "    .dataframe tbody tr th {\n",
       "        vertical-align: top;\n",
       "    }\n",
       "\n",
       "    .dataframe thead th {\n",
       "        text-align: right;\n",
       "    }\n",
       "</style>\n",
       "<table border=\"1\" class=\"dataframe\">\n",
       "  <thead>\n",
       "    <tr style=\"text-align: right;\">\n",
       "      <th></th>\n",
       "      <th>census_tra</th>\n",
       "      <th>_id</th>\n",
       "      <th>call_no</th>\n",
       "      <th>incident_t</th>\n",
       "      <th>type_descr</th>\n",
       "      <th>address</th>\n",
       "      <th>alarm_time</th>\n",
       "      <th>alarms</th>\n",
       "      <th>primary_un</th>\n",
       "      <th>cartodb_id</th>\n",
       "      <th>...</th>\n",
       "      <th>council_di</th>\n",
       "      <th>ward</th>\n",
       "      <th>tract</th>\n",
       "      <th>public_wor</th>\n",
       "      <th>pli_divisi</th>\n",
       "      <th>police_zon</th>\n",
       "      <th>fire_zone</th>\n",
       "      <th>latitude</th>\n",
       "      <th>longitude</th>\n",
       "      <th>geometry</th>\n",
       "    </tr>\n",
       "  </thead>\n",
       "  <tbody>\n",
       "    <tr>\n",
       "      <th>0</th>\n",
       "      <td>1914</td>\n",
       "      <td>139</td>\n",
       "      <td>F130022775</td>\n",
       "      <td>160.0</td>\n",
       "      <td>Special outside fire, Other</td>\n",
       "      <td>ARLINGTON AVE &amp; MCARDLE RDW, PITTSBURGH PA 15203</td>\n",
       "      <td>2013-04-04</td>\n",
       "      <td>0</td>\n",
       "      <td>231EN27</td>\n",
       "      <td>138</td>\n",
       "      <td>...</td>\n",
       "      <td>NaN</td>\n",
       "      <td>NaN</td>\n",
       "      <td>NaN</td>\n",
       "      <td>NaN</td>\n",
       "      <td>NaN</td>\n",
       "      <td>NaN</td>\n",
       "      <td>4-5</td>\n",
       "      <td>NaN</td>\n",
       "      <td>NaN</td>\n",
       "      <td>None</td>\n",
       "    </tr>\n",
       "    <tr>\n",
       "      <th>1</th>\n",
       "      <td>1302</td>\n",
       "      <td>23</td>\n",
       "      <td>F170043259</td>\n",
       "      <td>111.0</td>\n",
       "      <td>Building fire</td>\n",
       "      <td>7100 BLOCK HERMITAGE ST, PITTSBURGH PA 15208</td>\n",
       "      <td>2017-05-30</td>\n",
       "      <td>1</td>\n",
       "      <td>231EN15</td>\n",
       "      <td>23</td>\n",
       "      <td>...</td>\n",
       "      <td>9.0</td>\n",
       "      <td>13.0</td>\n",
       "      <td>4.200313e+10</td>\n",
       "      <td>2.0</td>\n",
       "      <td>13.0</td>\n",
       "      <td>5.0</td>\n",
       "      <td>3-18</td>\n",
       "      <td>40.460658</td>\n",
       "      <td>-79.897486</td>\n",
       "      <td>POINT (-79.89749 40.46066)</td>\n",
       "    </tr>\n",
       "  </tbody>\n",
       "</table>\n",
       "<p>2 rows × 21 columns</p>\n",
       "</div>"
      ],
      "text/plain": [
       "  census_tra  _id     call_no  incident_t                   type_descr  \\\n",
       "0       1914  139  F130022775       160.0  Special outside fire, Other   \n",
       "1       1302   23  F170043259       111.0                Building fire   \n",
       "\n",
       "                                            address  alarm_time  alarms  \\\n",
       "0  ARLINGTON AVE & MCARDLE RDW, PITTSBURGH PA 15203  2013-04-04       0   \n",
       "1      7100 BLOCK HERMITAGE ST, PITTSBURGH PA 15208  2017-05-30       1   \n",
       "\n",
       "  primary_un  cartodb_id  ... council_di  ward         tract  public_wor  \\\n",
       "0    231EN27         138  ...        NaN   NaN           NaN         NaN   \n",
       "1    231EN15          23  ...        9.0  13.0  4.200313e+10         2.0   \n",
       "\n",
       "   pli_divisi  police_zon  fire_zone   latitude  longitude  \\\n",
       "0         NaN         NaN        4-5        NaN        NaN   \n",
       "1        13.0         5.0       3-18  40.460658 -79.897486   \n",
       "\n",
       "                     geometry  \n",
       "0                        None  \n",
       "1  POINT (-79.89749 40.46066)  \n",
       "\n",
       "[2 rows x 21 columns]"
      ]
     },
     "execution_count": 2,
     "metadata": {},
     "output_type": "execute_result"
    }
   ],
   "source": [
    "import geopandas as gpd\n",
    "import pandas as pd\n",
    "\n",
    "#loading in Crime rates by location\n",
    "fire_Data = gpd.read_file('./FireIncidents.shp')\n",
    "\n",
    "fire_Data.head(2)"
   ]
  },
  {
   "cell_type": "markdown",
   "metadata": {},
   "source": [
    "Here is the data for Pittsburgh Fire incidents by Neighborhood"
   ]
  },
  {
   "cell_type": "code",
   "execution_count": 3,
   "metadata": {},
   "outputs": [
    {
     "data": {
      "text/html": [
       "<div>\n",
       "<style scoped>\n",
       "    .dataframe tbody tr th:only-of-type {\n",
       "        vertical-align: middle;\n",
       "    }\n",
       "\n",
       "    .dataframe tbody tr th {\n",
       "        vertical-align: top;\n",
       "    }\n",
       "\n",
       "    .dataframe thead th {\n",
       "        text-align: right;\n",
       "    }\n",
       "</style>\n",
       "<table border=\"1\" class=\"dataframe\">\n",
       "  <thead>\n",
       "    <tr style=\"text-align: right;\">\n",
       "      <th></th>\n",
       "      <th>Neighborhood</th>\n",
       "    </tr>\n",
       "  </thead>\n",
       "  <tbody>\n",
       "    <tr>\n",
       "      <th>0</th>\n",
       "      <td>None</td>\n",
       "    </tr>\n",
       "    <tr>\n",
       "      <th>1</th>\n",
       "      <td>Homewood North</td>\n",
       "    </tr>\n",
       "  </tbody>\n",
       "</table>\n",
       "</div>"
      ],
      "text/plain": [
       "     Neighborhood\n",
       "0            None\n",
       "1  Homewood North"
      ]
     },
     "execution_count": 3,
     "metadata": {},
     "output_type": "execute_result"
    }
   ],
   "source": [
    "# Creating a new data frame for the fire incidents\n",
    "fire_Data_DF = pd.DataFrame(columns = [\"Neighborhood\"])\n",
    "fire_Data_DF[\"Neighborhood\"] = fire_Data[\"neighborho\"]\n",
    "\n",
    "fire_Data_DF.head(2)"
   ]
  },
  {
   "cell_type": "markdown",
   "metadata": {},
   "source": [
    "Now we will simplify the data so that we only see the Neighborhood, and its number of fire incidents"
   ]
  },
  {
   "cell_type": "code",
   "execution_count": 4,
   "metadata": {},
   "outputs": [
    {
     "data": {
      "text/html": [
       "<div>\n",
       "<style scoped>\n",
       "    .dataframe tbody tr th:only-of-type {\n",
       "        vertical-align: middle;\n",
       "    }\n",
       "\n",
       "    .dataframe tbody tr th {\n",
       "        vertical-align: top;\n",
       "    }\n",
       "\n",
       "    .dataframe thead th {\n",
       "        text-align: right;\n",
       "    }\n",
       "</style>\n",
       "<table border=\"1\" class=\"dataframe\">\n",
       "  <thead>\n",
       "    <tr style=\"text-align: right;\">\n",
       "      <th></th>\n",
       "      <th>Neighborhood</th>\n",
       "      <th>Incidents</th>\n",
       "    </tr>\n",
       "  </thead>\n",
       "  <tbody>\n",
       "    <tr>\n",
       "      <th>0</th>\n",
       "      <td>Point Breeze North</td>\n",
       "      <td>0</td>\n",
       "    </tr>\n",
       "    <tr>\n",
       "      <th>1</th>\n",
       "      <td>Squirrel Hill North</td>\n",
       "      <td>0</td>\n",
       "    </tr>\n",
       "  </tbody>\n",
       "</table>\n",
       "</div>"
      ],
      "text/plain": [
       "          Neighborhood  Incidents\n",
       "0   Point Breeze North          0\n",
       "1  Squirrel Hill North          0"
      ]
     },
     "execution_count": 4,
     "metadata": {},
     "output_type": "execute_result"
    }
   ],
   "source": [
    "import geopandas as gpd\n",
    "import pandas as pd\n",
    "\n",
    "# Creating a new data frame for the neighborhoods\n",
    "neighborhoods_DF = pd.DataFrame(columns = [\"Neighborhood\", \"Incidents\"])\n",
    "neighborhoods_DF[\"Neighborhood\"] = Neighborhoods[\"hood\"]\n",
    "neighborhoods_DF[\"Incidents\"] = 0\n",
    "\n",
    "neighborhoods_DF.head(2)"
   ]
  },
  {
   "cell_type": "markdown",
   "metadata": {},
   "source": [
    "Now we can iterate through the fire incidents to find out which neighborhoods have the most fire incidents"
   ]
  },
  {
   "cell_type": "code",
   "execution_count": 5,
   "metadata": {},
   "outputs": [
    {
     "data": {
      "text/html": [
       "<div>\n",
       "<style scoped>\n",
       "    .dataframe tbody tr th:only-of-type {\n",
       "        vertical-align: middle;\n",
       "    }\n",
       "\n",
       "    .dataframe tbody tr th {\n",
       "        vertical-align: top;\n",
       "    }\n",
       "\n",
       "    .dataframe thead th {\n",
       "        text-align: right;\n",
       "    }\n",
       "</style>\n",
       "<table border=\"1\" class=\"dataframe\">\n",
       "  <thead>\n",
       "    <tr style=\"text-align: right;\">\n",
       "      <th></th>\n",
       "      <th>Neighborhood</th>\n",
       "      <th>Incidents</th>\n",
       "    </tr>\n",
       "  </thead>\n",
       "  <tbody>\n",
       "    <tr>\n",
       "      <th>0</th>\n",
       "      <td>Point Breeze North</td>\n",
       "      <td>33</td>\n",
       "    </tr>\n",
       "    <tr>\n",
       "      <th>1</th>\n",
       "      <td>Squirrel Hill North</td>\n",
       "      <td>84</td>\n",
       "    </tr>\n",
       "    <tr>\n",
       "      <th>2</th>\n",
       "      <td>Garfield</td>\n",
       "      <td>71</td>\n",
       "    </tr>\n",
       "    <tr>\n",
       "      <th>3</th>\n",
       "      <td>Bedford Dwellings</td>\n",
       "      <td>29</td>\n",
       "    </tr>\n",
       "    <tr>\n",
       "      <th>4</th>\n",
       "      <td>Knoxville</td>\n",
       "      <td>98</td>\n",
       "    </tr>\n",
       "  </tbody>\n",
       "</table>\n",
       "</div>"
      ],
      "text/plain": [
       "          Neighborhood  Incidents\n",
       "0   Point Breeze North         33\n",
       "1  Squirrel Hill North         84\n",
       "2             Garfield         71\n",
       "3    Bedford Dwellings         29\n",
       "4            Knoxville         98"
      ]
     },
     "execution_count": 5,
     "metadata": {},
     "output_type": "execute_result"
    }
   ],
   "source": [
    "import geopandas as gpd\n",
    "import pandas as pd\n",
    "\n",
    "for i, row1 in neighborhoods_DF.iterrows():\n",
    "    for j, row2 in fire_Data_DF.iterrows():\n",
    "        if row1['Neighborhood'] == row2['Neighborhood']:\n",
    "            neighborhoods_DF.at[i, 'Incidents'] += 1\n",
    "\n",
    "neighborhoods_DF.head(5)"
   ]
  },
  {
   "cell_type": "markdown",
   "metadata": {},
   "source": [
    "Now we can take this data and sort it based on number of incidents"
   ]
  },
  {
   "cell_type": "code",
   "execution_count": 6,
   "metadata": {},
   "outputs": [
    {
     "data": {
      "text/html": [
       "<div>\n",
       "<style scoped>\n",
       "    .dataframe tbody tr th:only-of-type {\n",
       "        vertical-align: middle;\n",
       "    }\n",
       "\n",
       "    .dataframe tbody tr th {\n",
       "        vertical-align: top;\n",
       "    }\n",
       "\n",
       "    .dataframe thead th {\n",
       "        text-align: right;\n",
       "    }\n",
       "</style>\n",
       "<table border=\"1\" class=\"dataframe\">\n",
       "  <thead>\n",
       "    <tr style=\"text-align: right;\">\n",
       "      <th></th>\n",
       "      <th>Neighborhood</th>\n",
       "      <th>Incidents</th>\n",
       "    </tr>\n",
       "  </thead>\n",
       "  <tbody>\n",
       "    <tr>\n",
       "      <th>85</th>\n",
       "      <td>Regent Square</td>\n",
       "      <td>6</td>\n",
       "    </tr>\n",
       "    <tr>\n",
       "      <th>28</th>\n",
       "      <td>East Carnegie</td>\n",
       "      <td>6</td>\n",
       "    </tr>\n",
       "    <tr>\n",
       "      <th>67</th>\n",
       "      <td>Mt. Oliver</td>\n",
       "      <td>7</td>\n",
       "    </tr>\n",
       "    <tr>\n",
       "      <th>82</th>\n",
       "      <td>Swisshelm Park</td>\n",
       "      <td>7</td>\n",
       "    </tr>\n",
       "    <tr>\n",
       "      <th>18</th>\n",
       "      <td>Arlington Heights</td>\n",
       "      <td>7</td>\n",
       "    </tr>\n",
       "  </tbody>\n",
       "</table>\n",
       "</div>"
      ],
      "text/plain": [
       "         Neighborhood  Incidents\n",
       "85      Regent Square          6\n",
       "28      East Carnegie          6\n",
       "67         Mt. Oliver          7\n",
       "82     Swisshelm Park          7\n",
       "18  Arlington Heights          7"
      ]
     },
     "execution_count": 6,
     "metadata": {},
     "output_type": "execute_result"
    }
   ],
   "source": [
    "fire_neighborhoods_sorted = neighborhoods_DF.sort_values(\"Incidents\", ascending = True)\n",
    "\n",
    "fire_neighborhoods_sorted.head()"
   ]
  },
  {
   "cell_type": "markdown",
   "metadata": {},
   "source": [
    "We are now going to put the data into a graph a to make it easier to view"
   ]
  },
  {
   "cell_type": "code",
   "execution_count": 7,
   "metadata": {},
   "outputs": [
    {
     "data": {
      "image/png": "[encoded data removed]",
      "text/plain": [
       "<Figure size 432x288 with 1 Axes>"
      ]
     },
     "metadata": {
      "needs_background": "light"
     },
     "output_type": "display_data"
    }
   ],
   "source": [
    "plt = fire_neighborhoods_sorted.iloc[:20].plot(kind = 'bar', x = \"Neighborhood\", y = \"Incidents\", title = \"Fire Incidents per neighborhood (bottom 20)\")"
   ]
  },
  {
   "cell_type": "markdown",
   "metadata": {},
   "source": [
    "Now taking this data we can rank each neighborhood by number of fire incidents"
   ]
  },
  {
   "cell_type": "code",
   "execution_count": 8,
   "metadata": {},
   "outputs": [
    {
     "data": {
      "text/html": [
       "<div>\n",
       "<style scoped>\n",
       "    .dataframe tbody tr th:only-of-type {\n",
       "        vertical-align: middle;\n",
       "    }\n",
       "\n",
       "    .dataframe tbody tr th {\n",
       "        vertical-align: top;\n",
       "    }\n",
       "\n",
       "    .dataframe thead th {\n",
       "        text-align: right;\n",
       "    }\n",
       "</style>\n",
       "<table border=\"1\" class=\"dataframe\">\n",
       "  <thead>\n",
       "    <tr style=\"text-align: right;\">\n",
       "      <th></th>\n",
       "      <th>Neighborhood</th>\n",
       "      <th>Incidents</th>\n",
       "      <th>rank</th>\n",
       "    </tr>\n",
       "  </thead>\n",
       "  <tbody>\n",
       "    <tr>\n",
       "      <th>85</th>\n",
       "      <td>Regent Square</td>\n",
       "      <td>6</td>\n",
       "      <td>1.0</td>\n",
       "    </tr>\n",
       "    <tr>\n",
       "      <th>28</th>\n",
       "      <td>East Carnegie</td>\n",
       "      <td>6</td>\n",
       "      <td>1.0</td>\n",
       "    </tr>\n",
       "    <tr>\n",
       "      <th>67</th>\n",
       "      <td>Mt. Oliver</td>\n",
       "      <td>7</td>\n",
       "      <td>3.0</td>\n",
       "    </tr>\n",
       "    <tr>\n",
       "      <th>82</th>\n",
       "      <td>Swisshelm Park</td>\n",
       "      <td>7</td>\n",
       "      <td>3.0</td>\n",
       "    </tr>\n",
       "    <tr>\n",
       "      <th>18</th>\n",
       "      <td>Arlington Heights</td>\n",
       "      <td>7</td>\n",
       "      <td>3.0</td>\n",
       "    </tr>\n",
       "  </tbody>\n",
       "</table>\n",
       "</div>"
      ],
      "text/plain": [
       "         Neighborhood  Incidents  rank\n",
       "85      Regent Square          6   1.0\n",
       "28      East Carnegie          6   1.0\n",
       "67         Mt. Oliver          7   3.0\n",
       "82     Swisshelm Park          7   3.0\n",
       "18  Arlington Heights          7   3.0"
      ]
     },
     "execution_count": 8,
     "metadata": {},
     "output_type": "execute_result"
    }
   ],
   "source": [
    "fire_neighborhoods_sorted['rank'] = fire_neighborhoods_sorted['Incidents'].rank(method = 'min')\n",
    "\n",
    "fire_neighborhoods_sorted.head()"
   ]
  },
  {
   "cell_type": "markdown",
   "metadata": {},
   "source": [
    "Based on this data set we can see that the top ranking nighborhood using the metric of least number of fire incidents is tied between Regent Square and East Carnegie who each had 6 incidents in this dataset"
   ]
  },
  {
   "cell_type": "code",
   "execution_count": null,
   "metadata": {},
   "outputs": [],
   "source": []
  }
 ],
 "metadata": {
  "kernelspec": {
   "display_name": "Python 3",
   "language": "python",
   "name": "python3"
  },
  "language_info": {
   "codemirror_mode": {
    "name": "ipython",
    "version": 3
   },
   "file_extension": ".py",
   "mimetype": "text/x-python",
   "name": "python",
   "nbconvert_exporter": "python",
   "pygments_lexer": "ipython3",
   "version": "3.8.3"
  }
 },
 "nbformat": 4,
 "nbformat_minor": 4
}
